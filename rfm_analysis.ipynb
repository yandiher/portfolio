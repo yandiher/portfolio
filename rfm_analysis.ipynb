{
 "cells": [
  {
   "cell_type": "markdown",
   "id": "2c3689fb-2095-4c81-992b-61ea2aa27836",
   "metadata": {},
   "source": [
    "# Portofolio: RFM Analysis - Optimize Business Strategy using Customer Data Analysis in Python"
   ]
  },
  {
   "cell_type": "markdown",
   "id": "f3129cfe-7bf4-45dd-814f-a0ac6843f48b",
   "metadata": {},
   "source": [
    "# Business Understanding"
   ]
  },
  {
   "cell_type": "markdown",
   "id": "7e43859c-2483-427e-8528-90ad9f462a8a",
   "metadata": {},
   "source": [
    "## Introduction\n",
    "\n",
    "RFM analysis is a method used to analyze customer behaviour using recency, frequency, and monetary where recency answers when is the latest purchase each customer, frequency answers how many times each customer buy products, and monetary answers how much money each customer spend to buy products. \n",
    "\n",
    "RFM analysis helps us to increase customer retention, optimize marketing campigns, and identify which customers has high value."
   ]
  },
  {
   "cell_type": "markdown",
   "id": "aa69fad6-c65e-442c-8719-2a67dd76876a",
   "metadata": {},
   "source": [
    "## Objectives\n",
    "\n",
    "The Marketing team needs a customer segmentation so they can optimize business marketing strategy for each customer. We need to figure which customers:\n",
    "- Need up-sell or cross-sell promotion to gain more purchase.\n",
    "- Need loyalty program.\n",
    "- Need educational content to build trust and knowledge or time-limited promotion."
   ]
  },
  {
   "cell_type": "markdown",
   "id": "f79ae67f-ef9a-4454-a5c5-9025b7b45b69",
   "metadata": {},
   "source": [
    "## Dataset and Tools needed\n",
    "\n",
    "We will use seblak prasmanan database. Seblak prasmanan is one of the new traditional Indonesian food. It's a boiled krupuk with various topping and what make seblak prasmanan special is you can take only topping that you like as many as you want.\n",
    "\n",
    "This analysis is using Python as the main tool to process the data and the RFM analysis. We will not use all variables to analyze. We only need the id_customer, transaction_date, and money_spent."
   ]
  },
  {
   "cell_type": "markdown",
   "id": "ac39ad27-8351-4378-ab50-37b6b9ca1041",
   "metadata": {},
   "source": [
    "## The Methodology\n",
    "\n",
    "So far, we knew that we need are id_customer, transaction_date, and money_spent. Let's see the metrics we need and how to calculate it:\n",
    "- To find the recency score, we need to calculate today date minus the newest date the customers bought. For example, customer 03 bought something in '03-04-2023' and today is '06-04-2024'. It means '06-04-2024' - '03-04-2024' = 3 days. The smaller day you get, the better you get score. that's recency.\n",
    "- To find the frequency score, you just need to count how many times the customers buy. This must be the easiest calculation in RFM analysis.\n",
    "- To find the monetary is sometimes tricky. Monetary means how much money they spent to buy our products. In this case, we use 'jumlah' variable (which means amount) multiple by 'harga_jual_satuan' (which means price per item).\n",
    "\n",
    "After that, we will separate them into three categories for each metrics. Recency will get low, medium, and high category. Also the same with Frequency and Monetary. To make it easier to calculate, we will use 1 for low, 2 for medium, and 3 for high.\n",
    "\n",
    "Finally, we will give weight for each metrics. In this example, we will give weight 20% for recency, 35% for frequency, and 45% for monetary. And then sum them up."
   ]
  },
  {
   "cell_type": "markdown",
   "id": "ed7ad138-08b4-4333-ac0b-7e1fffc95fa0",
   "metadata": {},
   "source": [
    "# Data Understanding"
   ]
  },
  {
   "cell_type": "markdown",
   "id": "ffbce434-8961-4f81-bd13-a3c22e9e7acb",
   "metadata": {},
   "source": [
    "## Data Acquisition"
   ]
  },
  {
   "cell_type": "code",
   "execution_count": 1,
   "id": "9567d939-5e52-40f7-9238-d12e7d86f36d",
   "metadata": {},
   "outputs": [],
   "source": [
    "import numpy as np\n",
    "import pandas as pd\n",
    "import matplotlib.pyplot as plt\n",
    "import seaborn as sns"
   ]
  },
  {
   "cell_type": "code",
   "execution_count": 2,
   "id": "8bb4379b-9fd1-4d5e-a72d-3fda8d1b428d",
   "metadata": {},
   "outputs": [
    {
     "name": "stdout",
     "output_type": "stream",
     "text": [
      "   customer_id transaction_date       city customer_type  purchase\n",
      "0            7       2023-09-23    Jakarta        member       193\n",
      "1           22       2023-05-05    Jakarta        member       160\n",
      "2           31       2023-10-05  Tangerang        member       194\n",
      "3           50       2023-10-12    Jakarta        member       171\n",
      "4           13       2023-08-15     Bekasi        member       177\n"
     ]
    }
   ],
   "source": [
    "dataset = pd.read_csv('data/seblak_dataset.csv')\n",
    "print(dataset.head())"
   ]
  },
  {
   "cell_type": "markdown",
   "id": "a3d0f6df-84f6-48b6-b10c-3a709b2533b7",
   "metadata": {},
   "source": [
    "## Data Profiling"
   ]
  },
  {
   "cell_type": "code",
   "execution_count": 3,
   "id": "fef693ee-56d4-4c42-a164-2a7155dd1b8b",
   "metadata": {},
   "outputs": [
    {
     "name": "stdout",
     "output_type": "stream",
     "text": [
      "<class 'pandas.core.frame.DataFrame'>\n",
      "RangeIndex: 3936 entries, 0 to 3935\n",
      "Data columns (total 5 columns):\n",
      " #   Column            Non-Null Count  Dtype \n",
      "---  ------            --------------  ----- \n",
      " 0   customer_id       3936 non-null   int64 \n",
      " 1   transaction_date  3936 non-null   object\n",
      " 2   city              3936 non-null   object\n",
      " 3   customer_type     3936 non-null   object\n",
      " 4   purchase          3936 non-null   int64 \n",
      "dtypes: int64(2), object(3)\n",
      "memory usage: 153.9+ KB\n"
     ]
    }
   ],
   "source": [
    "# column type\n",
    "dataset.info()"
   ]
  },
  {
   "cell_type": "code",
   "execution_count": 4,
   "id": "ece95d64-ef0e-4183-af39-b147f14fb36c",
   "metadata": {},
   "outputs": [
    {
     "data": {
      "text/plain": [
       "customer_id         0\n",
       "transaction_date    0\n",
       "city                0\n",
       "customer_type       0\n",
       "purchase            0\n",
       "dtype: int64"
      ]
     },
     "execution_count": 4,
     "metadata": {},
     "output_type": "execute_result"
    }
   ],
   "source": [
    "# missing value\n",
    "dataset.isnull().sum()"
   ]
  },
  {
   "cell_type": "code",
   "execution_count": 5,
   "id": "c069c41a-aa90-48e0-a0f2-2945abb5f141",
   "metadata": {},
   "outputs": [
    {
     "data": {
      "text/plain": [
       "np.int64(1)"
      ]
     },
     "execution_count": 5,
     "metadata": {},
     "output_type": "execute_result"
    }
   ],
   "source": [
    "# duplicated value\n",
    "dataset.duplicated().sum()"
   ]
  },
  {
   "cell_type": "markdown",
   "id": "3282acb3-6d38-4bfc-adbc-fb70969fec08",
   "metadata": {},
   "source": [
    "NOTE:\n",
    "- transaction_date which means datetime is still an object. we can change data format in preprocessing section.\n",
    "- the data has no missing value\n",
    "- the data has no duplicated value"
   ]
  },
  {
   "cell_type": "markdown",
   "id": "8f3927ef-e988-4a8c-bbe7-6ebff45987a0",
   "metadata": {},
   "source": [
    "## Descriptive Statistics"
   ]
  },
  {
   "cell_type": "code",
   "execution_count": 6,
   "id": "e6c86029-ece5-4b87-8d04-8725130d9695",
   "metadata": {},
   "outputs": [
    {
     "data": {
      "text/plain": [
       "transaction_date\n",
       "2023-11-15    34\n",
       "2023-12-31    28\n",
       "2023-12-08    28\n",
       "2023-10-06    27\n",
       "2023-12-24    26\n",
       "              ..\n",
       "2023-01-05     1\n",
       "2023-02-20     1\n",
       "2023-03-29     1\n",
       "2023-04-06     1\n",
       "2023-01-02     1\n",
       "Name: count, Length: 362, dtype: int64"
      ]
     },
     "execution_count": 6,
     "metadata": {},
     "output_type": "execute_result"
    }
   ],
   "source": [
    "dataset['transaction_date'].value_counts()"
   ]
  },
  {
   "cell_type": "markdown",
   "id": "ca6f246d-eb70-4331-8d66-a8340cc4d325",
   "metadata": {},
   "source": [
    "NOTE:\n",
    "- 2023-11-15 is the date with the highest transaction, totalling 34.\n",
    "- 2023-02-13 is the date with the least transaction, totalling 1 transaction."
   ]
  },
  {
   "cell_type": "code",
   "execution_count": 7,
   "id": "ebc97017-c71c-4c36-b8f1-dcc28f824225",
   "metadata": {
    "scrolled": true
   },
   "outputs": [
    {
     "data": {
      "image/png": "[encoded data removed]",
      "text/plain": [
       "<Figure size 1600x500 with 1 Axes>"
      ]
     },
     "metadata": {},
     "output_type": "display_data"
    },
    {
     "name": "stdout",
     "output_type": "stream",
     "text": [
      "count    3936.000\n",
      "mean      165.862\n",
      "std        17.159\n",
      "min       110.000\n",
      "25%       154.000\n",
      "50%       165.000\n",
      "75%       177.000\n",
      "max       237.000\n",
      "Name: purchase, dtype: float64\n"
     ]
    }
   ],
   "source": [
    "plt.figure(figsize=(16,5))\n",
    "sns.boxplot(dataset['purchase'], orient='h', showmeans=True)\n",
    "plt.show()\n",
    "print(dataset['purchase'].describe().round(3))"
   ]
  },
  {
   "cell_type": "markdown",
   "id": "523fce89-2dcd-4456-b27f-69b08cc8e8f7",
   "metadata": {},
   "source": [
    "NOTE:\n",
    "- from the boxplot, we can see that the distribution is kind of normally distributed but the mean is slightly pulled by the highest value although the mean is still close to the median. we need to check whether or not the data is normally distributed.\n",
    "- there are so much outliers where they spent money more than the average customers."
   ]
  },
  {
   "cell_type": "code",
   "execution_count": 8,
   "id": "a7034b45-2e50-4c7c-abfc-2e80ecfeeeef",
   "metadata": {},
   "outputs": [
    {
     "data": {
      "image/png": "[encoded data removed]",
      "text/plain": [
       "<Figure size 1600x500 with 1 Axes>"
      ]
     },
     "metadata": {},
     "output_type": "display_data"
    }
   ],
   "source": [
    "plt.figure(figsize=(16,5))\n",
    "sns.histplot(dataset['purchase'], kde=True)\n",
    "plt.show()"
   ]
  },
  {
   "cell_type": "markdown",
   "id": "12f928e3-ca9c-4ba4-be72-5e437345788e",
   "metadata": {},
   "source": [
    "NOTE:\n",
    "\n",
    "- we can see from the figure that the variable has two long tails.\n",
    "- from the histogram, people tend to spend money nearly $160.\n",
    "- further analysis: try seeing the trend over month."
   ]
  },
  {
   "cell_type": "markdown",
   "id": "d97ed2ed-a4ba-4921-8258-a2a0c00d2302",
   "metadata": {},
   "source": [
    "# Data Preprocessing"
   ]
  },
  {
   "cell_type": "code",
   "execution_count": 9,
   "id": "a9414f73-3e8f-40a9-9084-1431b21ad490",
   "metadata": {},
   "outputs": [],
   "source": [
    "dataset['transaction_date'] = pd.to_datetime(dataset['transaction_date'])"
   ]
  },
  {
   "cell_type": "code",
   "execution_count": 10,
   "id": "92280adb-74ff-454b-8358-4b6c56ec33f9",
   "metadata": {},
   "outputs": [
    {
     "name": "stdout",
     "output_type": "stream",
     "text": [
      "<class 'pandas.core.frame.DataFrame'>\n",
      "RangeIndex: 3936 entries, 0 to 3935\n",
      "Data columns (total 5 columns):\n",
      " #   Column            Non-Null Count  Dtype         \n",
      "---  ------            --------------  -----         \n",
      " 0   customer_id       3936 non-null   int64         \n",
      " 1   transaction_date  3936 non-null   datetime64[ns]\n",
      " 2   city              3936 non-null   object        \n",
      " 3   customer_type     3936 non-null   object        \n",
      " 4   purchase          3936 non-null   int64         \n",
      "dtypes: datetime64[ns](1), int64(2), object(2)\n",
      "memory usage: 153.9+ KB\n"
     ]
    }
   ],
   "source": [
    "dataset.info()"
   ]
  },
  {
   "cell_type": "code",
   "execution_count": 11,
   "id": "d77dd6c2-45fb-4f6b-aa88-46ab2d95f4cf",
   "metadata": {},
   "outputs": [
    {
     "name": "stdout",
     "output_type": "stream",
     "text": [
      "      customer_id transaction_date       city customer_type  purchase\n",
      "3931          573       2023-12-21      Bogor        casual       160\n",
      "3932          590       2023-12-29  Tangerang        casual       153\n",
      "3933          560       2023-12-12    Jakarta        casual       151\n",
      "3934          560       2023-12-16    Jakarta        casual       121\n",
      "3935          571       2023-12-05      Bogor        casual       148\n"
     ]
    }
   ],
   "source": [
    "print(dataset.tail())"
   ]
  },
  {
   "cell_type": "code",
   "execution_count": 12,
   "id": "7b403cec-4a7c-4ef0-bf32-8f17b4a12661",
   "metadata": {},
   "outputs": [],
   "source": [
    "monetary = dataset.groupby('customer_id')['purchase'].sum()\n",
    "recency = dataset['transaction_date'].max() - dataset.groupby('customer_id')['transaction_date'].max()\n",
    "frequency = dataset.groupby('customer_id')['customer_id'].count()"
   ]
  },
  {
   "cell_type": "code",
   "execution_count": 13,
   "id": "80c6d850-2609-4c6d-872d-168a3fe2f2f8",
   "metadata": {},
   "outputs": [],
   "source": [
    "pivot_dataset = pd.concat([recency, frequency, monetary], axis=1)"
   ]
  },
  {
   "cell_type": "code",
   "execution_count": 14,
   "id": "711d1adc-de53-4188-867a-13c2f4e3896b",
   "metadata": {},
   "outputs": [
    {
     "data": {
      "text/plain": [
       "Index(['transaction_date', 'customer_id', 'purchase'], dtype='object')"
      ]
     },
     "execution_count": 14,
     "metadata": {},
     "output_type": "execute_result"
    }
   ],
   "source": [
    "pivot_dataset.keys()"
   ]
  },
  {
   "cell_type": "code",
   "execution_count": 15,
   "id": "e147d02c-d89a-4fcb-a729-ddc17e5f63eb",
   "metadata": {},
   "outputs": [],
   "source": [
    "pivot_dataset.rename(columns={'transaction_date':'recency',\n",
    "                              'customer_id': 'frequency',\n",
    "                              'purchase': 'monetary'}, inplace=True)"
   ]
  },
  {
   "cell_type": "code",
   "execution_count": 16,
   "id": "c9bafd90-a250-495e-a97b-f54b0edfe35c",
   "metadata": {},
   "outputs": [
    {
     "name": "stdout",
     "output_type": "stream",
     "text": [
      "            recency  frequency  monetary\n",
      "customer_id                             \n",
      "1            3 days         20      3233\n",
      "2            5 days          9      1656\n",
      "3           44 days          6       960\n",
      "4           18 days         10      1862\n",
      "5           16 days         12      2004\n"
     ]
    }
   ],
   "source": [
    "print(pivot_dataset.head())"
   ]
  },
  {
   "cell_type": "markdown",
   "id": "13e20c0c-3d0d-49c3-a153-5c2512e94d2c",
   "metadata": {},
   "source": [
    "# Modeling"
   ]
  },
  {
   "cell_type": "code",
   "execution_count": 17,
   "id": "e09bb736-93ca-4080-b04c-4b867701e740",
   "metadata": {},
   "outputs": [
    {
     "name": "stdout",
     "output_type": "stream",
     "text": [
      "            recency  frequency  monetary  recency_score  frequency_score  \\\n",
      "customer_id                                                                \n",
      "1            3 days         20      3233          487.0            537.0   \n",
      "2            5 days          9      1656          460.0            388.0   \n",
      "3           44 days          6       960          136.5            277.0   \n",
      "4           18 days         10      1862          306.5            414.5   \n",
      "5           16 days         12      2004          330.5            457.0   \n",
      "\n",
      "             monetary_score  recency_segment  frequency_segment  \\\n",
      "customer_id                                                       \n",
      "1                     534.0                3                  3   \n",
      "2                     413.0                3                  3   \n",
      "3                     274.5                1                  2   \n",
      "4                     440.0                2                  3   \n",
      "5                     458.0                2                  3   \n",
      "\n",
      "             monetary_segment  rfm_score rfm_segment  \n",
      "customer_id                                           \n",
      "1                           3      100.0         333  \n",
      "2                           3      100.0         333  \n",
      "3                           2       60.0         122  \n",
      "4                           3       93.0         233  \n",
      "5                           3       93.0         233  \n"
     ]
    }
   ],
   "source": [
    "pivot_dataset['recency_score'] = pivot_dataset['recency'].rank(ascending=False)\n",
    "pivot_dataset['frequency_score'] = pivot_dataset['frequency'].rank(ascending=True)\n",
    "pivot_dataset['monetary_score'] = pivot_dataset['monetary'].rank(ascending=True)\n",
    "pivot_dataset['recency_segment'] = pd.qcut(x=pivot_dataset['recency_score'], q=3, labels=[1, 2, 3]).astype('int')\n",
    "pivot_dataset['frequency_segment'] = pd.qcut(x=pivot_dataset['frequency_score'], q=3, labels=[1, 2, 3]).astype('int')\n",
    "pivot_dataset['monetary_segment'] = pd.qcut(x=pivot_dataset['monetary_score'], q=3, labels=[1, 2, 3]).astype('int')\n",
    "pivot_dataset['rfm_score'] = (((pivot_dataset['recency_segment']*0.2)+(pivot_dataset['frequency_segment']*0.3)+(pivot_dataset['monetary_segment']*0.5))/3*100).round()\n",
    "pivot_dataset['rfm_segment'] = pivot_dataset['recency_segment'].astype('str') + pivot_dataset['frequency_segment'].astype('str') + pivot_dataset['monetary_segment'].astype('str')\n",
    "print(pivot_dataset.head())"
   ]
  },
  {
   "cell_type": "code",
   "execution_count": 18,
   "id": "8e36ded2-cc88-4a2a-88e1-a32d9d41f1d2",
   "metadata": {},
   "outputs": [
    {
     "data": {
      "image/png": "[encoded data removed]",
      "text/plain": [
       "<Figure size 1600x500 with 1 Axes>"
      ]
     },
     "metadata": {},
     "output_type": "display_data"
    }
   ],
   "source": [
    "plt.figure(figsize=(16,5))\n",
    "sns.barplot(pivot_dataset.groupby('rfm_segment')['rfm_score'].count(), orient='h')\n",
    "plt.show()"
   ]
  },
  {
   "cell_type": "code",
   "execution_count": 19,
   "id": "b9f1389c-fcc6-4955-a702-33f18511929e",
   "metadata": {},
   "outputs": [
    {
     "data": {
      "text/plain": [
       "rfm_score  rfm_segment\n",
       "33.0       111            83\n",
       "40.0       211            60\n",
       "47.0       311            41\n",
       "50.0       112             7\n",
       "57.0       212            10\n",
       "60.0       122            48\n",
       "63.0       312             7\n",
       "67.0       222            56\n",
       "70.0       132             1\n",
       "73.0       322            55\n",
       "77.0       123             3\n",
       "83.0       223             1\n",
       "87.0       133            42\n",
       "90.0       323             2\n",
       "93.0       233            65\n",
       "100.0      333            71\n",
       "Name: rfm_score, dtype: int64"
      ]
     },
     "execution_count": 19,
     "metadata": {},
     "output_type": "execute_result"
    }
   ],
   "source": [
    "pivot_dataset.groupby(['rfm_score','rfm_segment'])['rfm_score'].count()"
   ]
  },
  {
   "cell_type": "markdown",
   "id": "e45918af-9073-485e-b14a-021a1842bd12",
   "metadata": {},
   "source": [
    "# Insights"
   ]
  },
  {
   "cell_type": "markdown",
   "id": "9ebf5dea-e2f2-410d-9358-5567717f9aa5",
   "metadata": {},
   "source": [
    "## Interpretation and Reporting\n",
    "\n",
    "There are 68 customers that has score 100 which is excellent and we need to maintain it. There are 64 customers that gets score 93 and it will be more because we can lead 43 customers from low recency to medium recency.\n",
    "\n",
    "There are 49 customers with low recency, 55 customers with medium recency, and 52 customers with high recency. Three of them are medium frequency and medium monetary.\n",
    "\n",
    "There are 10 customers with medium recency, low frequency, and medium monetary. These customers have bot quite recently, only bought few times, but have medium money spent.\n",
    "\n",
    "There are 82 customers with low recency, 60 customers with medium recency, and 42 customers with high recency. Three of them are low frequency and low monetary.\n",
    "\n",
    "The rest of the category are small groups. Let's focus on the big groups."
   ]
  },
  {
   "cell_type": "markdown",
   "id": "c25ad38d-3f80-4bd4-b0a2-f67bf072b8ac",
   "metadata": {},
   "source": [
    "## Actions\n",
    "\n",
    "For R3F3M3 segment is our top performers. These customers don't need unnecessary promo. Just give them retention campaign like loyalty rewards or vip discounts. They will probably love it.\n",
    "\n",
    "For R2-R1F3M3 categories are our potential customers. They had high transaction and high frequency but had lost interest to our products. These customers need \"we missed you\" promo and limited time offer which is a big discount so they come back to our products. It needs to be highlighted that this promo cannot be bigger than the promo you gave to the top performers. Otherwise, they will feel jealous.\n",
    "\n",
    "Finding new customers are always harder than winning past customers. So, although recency gets 20% weight of rfm analysis, recency is the most crucial process to retention. When the recency is high already (R3), continue to frequency strategy that make customer buy more often (F3). When it's done, doing some up-selling and cross-selling products to gain transaction (M3).\n",
    "\n",
    "For R2-R1F2M2 categories, better do limited time offer so the customers instantly purchase our products. When they become R3F2M2, offer loyalty program like give them ten-empty-block card. When they purchase our products, they will get stamp and when the card is full of stamp, they get free product or food if it's foods and beverages. You can also offer discount for their next purchase for R3F1M1 category. \n",
    "\n",
    "For R1F1M1 category, they are past customers, rarely purchased, and spent small amount of money. Try giving broader promo that can apply for finding new customers and winning pas customers. Also make personalized promo to show them that we know them.\n",
    "\n",
    "Categories:\n",
    "- R2F3M3 (68 customers) focuses on limited time offer.\n",
    "- R1F3M3 (43 customers) focuses on limited time offer.\n",
    "- R3F2M2 (52 customers) focuses on loyalty program.\n",
    "- R2F2M2 (55 customers) focuses on limited time offer.\n",
    "- R1F2M2 (49 customers) focuses on limited time offer.\n",
    "- R3F1M1 (42 customers) focuses on loyalty program.\n",
    "- R2F1M1 (60 customers) focuses on limited time offer."
   ]
  },
  {
   "cell_type": "markdown",
   "id": "b13acced-cae3-46fc-afa2-1652648518b2",
   "metadata": {},
   "source": [
    "# Further Analysis\n",
    "\n",
    "- Do survival analysis to understand customer lifetime value, predicting how often customers purchase.\n",
    "- Do cohort analysis to understand retention rate, observing customer behaviour based on their first purchase.\n",
    "- Do churn analysis to understand churn rate, identifying what factors make customers stop purchasing or using our products."
   ]
  }
 ],
 "metadata": {
  "kernelspec": {
   "display_name": "Python 3 (ipykernel)",
   "language": "python",
   "name": "python3"
  },
  "language_info": {
   "codemirror_mode": {
    "name": "ipython",
    "version": 3
   },
   "file_extension": ".py",
   "mimetype": "text/x-python",
   "name": "python",
   "nbconvert_exporter": "python",
   "pygments_lexer": "ipython3",
   "version": "3.11.2"
  }
 },
 "nbformat": 4,
 "nbformat_minor": 5
}
