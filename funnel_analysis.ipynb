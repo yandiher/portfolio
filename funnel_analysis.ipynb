{
 "cells": [
  {
   "cell_type": "markdown",
   "id": "2a7c961e-087b-4acc-b670-6797479cfce4",
   "metadata": {},
   "source": [
    "# Portofolio: Funnel Analysis - Improving Ad Relevance, CPM, and Direct Message Effectiveness"
   ]
  },
  {
   "cell_type": "markdown",
   "id": "9e4e8f25-b855-40f4-9451-2dcfab2f1b95",
   "metadata": {},
   "source": [
    "# Business Understanding"
   ]
  },
  {
   "cell_type": "markdown",
   "id": "9a0524ce-5e18-4868-a709-9d70dc3034af",
   "metadata": {},
   "source": [
    "## Introduction\n",
    "\n",
    "The Team marketing has conducted a marketing strategy using discount 99% for first month after sign up in fitness center to attract new customers. This customer acquisition strategy used the top five popular social media platform. Our main goal for this analysis is to know how much the cost per acquisition using funnel analysis. Few things we need to know:\n",
    "- The CPM: IDR65.000\n",
    "- Impression: 990.000"
   ]
  },
  {
   "cell_type": "code",
   "execution_count": 1,
   "id": "c60eef1c-909b-46fa-a0b5-94403c9f56b5",
   "metadata": {},
   "outputs": [],
   "source": [
    "cpm = 65000"
   ]
  },
  {
   "cell_type": "markdown",
   "id": "e5b7c2b9-a6ab-473f-8e0e-fc74be9e2602",
   "metadata": {},
   "source": [
    "## Objectives\n",
    "\n",
    "There are metrics and KPI we need to calculate, like:\n",
    "- Impression per click\n",
    "- Total user reach\n",
    "- Impression per user\n",
    "- User per click\n",
    "- Click per message\n",
    "- Message per visit\n",
    "- Visit per closing\n",
    "- cost per acquisition"
   ]
  },
  {
   "cell_type": "markdown",
   "id": "b57f8c37-e3a1-4a93-87a0-87f2d800e8dc",
   "metadata": {},
   "source": [
    "## Tools and Dataset Needed\n",
    "\n",
    "The tools need for this analysis is Python Interpreter, Python library(numpy, pandas, matplotlib, seaborn), JupyterLab. We use the fitness acquisition csv dataset for this analysis. This dataset has four variables and those are id, platform, date, and action during the date."
   ]
  },
  {
   "cell_type": "markdown",
   "id": "6aba199e-0557-439f-a608-33602246086b",
   "metadata": {},
   "source": [
    "## Methodology\n",
    "\n",
    "We will use AIDA concept for this analysis with some modification to fit the problem. It's AIDCA (Awareness, Interest, Desire, Conviction, and Action). In this dataset, the action variables follow this term:\n",
    "- Awareness = Impression\n",
    "- Interest = Click\n",
    "- Desire = Message(DM)\n",
    "- Conviction = Visit\n",
    "- Action = Closing\n",
    "\n",
    "```\n",
    "impression per click = total impression / total click\n",
    "\n",
    "impression per user = total impression / total user\n",
    "\n",
    "user per click = total user / total click\n",
    "\n",
    "click per message = total click / total direct message\n",
    "\n",
    "message per visit = total direct message / total visit store\n",
    "\n",
    "visit per close = total users visit store / total close\n",
    "where close means purchase or subscribe\n",
    "\n",
    "cost per acquisition = (cost per mile / 1000) * impression / total close\n",
    "```"
   ]
  },
  {
   "cell_type": "markdown",
   "id": "56f3994b-f6b5-4cbd-87f6-63332b0107c8",
   "metadata": {},
   "source": [
    "# Data Understanding"
   ]
  },
  {
   "cell_type": "markdown",
   "id": "7036b50f-5891-4d29-b5de-575e30217914",
   "metadata": {},
   "source": [
    "## Data Acquisition"
   ]
  },
  {
   "cell_type": "code",
   "execution_count": 2,
   "id": "89041653-860d-4903-ac5c-af2d8db917de",
   "metadata": {},
   "outputs": [],
   "source": [
    "# load library\n",
    "import numpy as np\n",
    "import pandas as pd\n",
    "import matplotlib.pyplot as plt\n",
    "import seaborn as sns"
   ]
  },
  {
   "cell_type": "code",
   "execution_count": 3,
   "id": "edd2e10f-cdda-41bb-b28d-232287f0e4fe",
   "metadata": {},
   "outputs": [],
   "source": [
    "dataset = pd.read_csv('data/fitness_acquisition.csv')"
   ]
  },
  {
   "cell_type": "code",
   "execution_count": 4,
   "id": "93258bcf-2092-4eb9-98eb-b754f68e5845",
   "metadata": {},
   "outputs": [
    {
     "name": "stdout",
     "output_type": "stream",
     "text": [
      "        id   platform        date      action\n",
      "0  1000001  instagram  2024-01-03  impression\n",
      "1  1000004   facebook  2024-01-01  impression\n",
      "2  1000006   linkedin  2024-01-04  impression\n",
      "3  1000007  instagram  2024-01-04  impression\n",
      "4  1000008   facebook  2024-01-01  impression\n"
     ]
    }
   ],
   "source": [
    "print(dataset.head())"
   ]
  },
  {
   "cell_type": "markdown",
   "id": "73daa88b-23f4-4708-8b6c-8d4e60a7e6b6",
   "metadata": {},
   "source": [
    "## Data Profiling"
   ]
  },
  {
   "cell_type": "code",
   "execution_count": 5,
   "id": "31e63c38-78a8-4615-9192-0a8f168212a5",
   "metadata": {},
   "outputs": [
    {
     "name": "stdout",
     "output_type": "stream",
     "text": [
      "<class 'pandas.core.frame.DataFrame'>\n",
      "RangeIndex: 1059786 entries, 0 to 1059785\n",
      "Data columns (total 4 columns):\n",
      " #   Column    Non-Null Count    Dtype \n",
      "---  ------    --------------    ----- \n",
      " 0   id        1059786 non-null  int64 \n",
      " 1   platform  1059786 non-null  object\n",
      " 2   date      1059786 non-null  object\n",
      " 3   action    1059786 non-null  object\n",
      "dtypes: int64(1), object(3)\n",
      "memory usage: 32.3+ MB\n"
     ]
    }
   ],
   "source": [
    "# dataset info\n",
    "dataset.info()"
   ]
  },
  {
   "cell_type": "code",
   "execution_count": 6,
   "id": "139e00ba-e68d-45a7-b83c-50319919debe",
   "metadata": {},
   "outputs": [
    {
     "data": {
      "text/plain": [
       "id          0\n",
       "platform    0\n",
       "date        0\n",
       "action      0\n",
       "dtype: int64"
      ]
     },
     "execution_count": 6,
     "metadata": {},
     "output_type": "execute_result"
    }
   ],
   "source": [
    "# missing values\n",
    "dataset.isna().sum()"
   ]
  },
  {
   "cell_type": "code",
   "execution_count": 7,
   "id": "fbbd9ba3-9e34-4099-b398-3d8771ccef6d",
   "metadata": {},
   "outputs": [
    {
     "data": {
      "text/plain": [
       "np.int64(679203)"
      ]
     },
     "execution_count": 7,
     "metadata": {},
     "output_type": "execute_result"
    }
   ],
   "source": [
    "# duplicated values\n",
    "dataset.duplicated().sum()"
   ]
  },
  {
   "cell_type": "markdown",
   "id": "4d88e2f5-1185-4db1-b589-0e61d29ca66d",
   "metadata": {},
   "source": [
    "This problem maybe happens because some records happen twice or more."
   ]
  },
  {
   "cell_type": "code",
   "execution_count": 8,
   "id": "42a9ecfb-6ca1-4241-9738-fde2425043c4",
   "metadata": {},
   "outputs": [],
   "source": [
    "# correct wrong format\n",
    "dataset['date'] = pd.to_datetime(dataset['date'])"
   ]
  },
  {
   "cell_type": "code",
   "execution_count": 9,
   "id": "f2b1c14f-cb09-40b3-a4ae-4d9a4522f615",
   "metadata": {},
   "outputs": [],
   "source": [
    "dataset['id'] = dataset['id'].astype(int).astype(str)"
   ]
  },
  {
   "cell_type": "code",
   "execution_count": 10,
   "id": "63eb4a77-f1fb-4cae-83a3-a6089416d614",
   "metadata": {},
   "outputs": [
    {
     "name": "stdout",
     "output_type": "stream",
     "text": [
      "<class 'pandas.core.frame.DataFrame'>\n",
      "RangeIndex: 1059786 entries, 0 to 1059785\n",
      "Data columns (total 4 columns):\n",
      " #   Column    Non-Null Count    Dtype         \n",
      "---  ------    --------------    -----         \n",
      " 0   id        1059786 non-null  object        \n",
      " 1   platform  1059786 non-null  object        \n",
      " 2   date      1059786 non-null  datetime64[ns]\n",
      " 3   action    1059786 non-null  object        \n",
      "dtypes: datetime64[ns](1), object(3)\n",
      "memory usage: 32.3+ MB\n"
     ]
    }
   ],
   "source": [
    "dataset.info()"
   ]
  },
  {
   "cell_type": "markdown",
   "id": "285e0d54-2085-423d-8b23-d0f02935588b",
   "metadata": {},
   "source": [
    "## Descriptive Statistics"
   ]
  },
  {
   "cell_type": "code",
   "execution_count": 11,
   "id": "c6db60cd-3dad-4b39-b558-b99313b1447e",
   "metadata": {},
   "outputs": [
    {
     "name": "stdout",
     "output_type": "stream",
     "text": [
      "             id  platform                           date      action\n",
      "count   1059786   1059786                        1059786     1059786\n",
      "unique    90000         5                            NaN           5\n",
      "top     1075685  facebook                            NaN  impression\n",
      "freq         38    381834                            NaN      990000\n",
      "mean        NaN       NaN  2024-01-02 12:52:52.661649408         NaN\n",
      "min         NaN       NaN            2024-01-01 00:00:00         NaN\n",
      "25%         NaN       NaN            2024-01-02 00:00:00         NaN\n",
      "50%         NaN       NaN            2024-01-03 00:00:00         NaN\n",
      "75%         NaN       NaN            2024-01-04 00:00:00         NaN\n",
      "max         NaN       NaN            2024-01-12 00:00:00         NaN\n"
     ]
    }
   ],
   "source": [
    "print(dataset.describe(include='all'))"
   ]
  },
  {
   "cell_type": "code",
   "execution_count": 12,
   "id": "39ef686b-1352-401d-80f0-539d7edc23c3",
   "metadata": {},
   "outputs": [
    {
     "data": {
      "text/plain": [
       "id\n",
       "1075685    38\n",
       "1023730    37\n",
       "1099075    37\n",
       "1057861    37\n",
       "1040609    36\n",
       "           ..\n",
       "1023677     1\n",
       "1023674     1\n",
       "1000077     1\n",
       "1048965     1\n",
       "1099943     1\n",
       "Name: count, Length: 90000, dtype: int64"
      ]
     },
     "execution_count": 12,
     "metadata": {},
     "output_type": "execute_result"
    }
   ],
   "source": [
    "dataset['id'].value_counts()"
   ]
  },
  {
   "cell_type": "code",
   "execution_count": 13,
   "id": "5c57f2b4-9e7a-4004-bf13-8b731dfeccbd",
   "metadata": {},
   "outputs": [
    {
     "data": {
      "text/plain": [
       "platform\n",
       "facebook     381834\n",
       "instagram    255000\n",
       "linkedin     185359\n",
       "tiktok       172411\n",
       "youtube       65182\n",
       "Name: count, dtype: int64"
      ]
     },
     "execution_count": 13,
     "metadata": {},
     "output_type": "execute_result"
    }
   ],
   "source": [
    "dataset['platform'].value_counts()"
   ]
  },
  {
   "cell_type": "code",
   "execution_count": 14,
   "id": "be47fa82-583b-4fb9-bb0f-791723a5e37e",
   "metadata": {},
   "outputs": [
    {
     "data": {
      "text/plain": [
       "date\n",
       "2024-01-01    260299\n",
       "2024-01-02    263376\n",
       "2024-01-03    264100\n",
       "2024-01-04    264436\n",
       "2024-01-05      3131\n",
       "2024-01-06       641\n",
       "2024-01-07      1066\n",
       "2024-01-08      1099\n",
       "2024-01-09       988\n",
       "2024-01-10       520\n",
       "2024-01-11       121\n",
       "2024-01-12         9\n",
       "Name: count, dtype: int64"
      ]
     },
     "execution_count": 14,
     "metadata": {},
     "output_type": "execute_result"
    }
   ],
   "source": [
    "dataset['date'].value_counts().sort_index()"
   ]
  },
  {
   "cell_type": "markdown",
   "id": "8abaf7c1-40c8-4c3b-be1a-ef072cf30caa",
   "metadata": {},
   "source": [
    "We can see that the platform advertises on the first four days."
   ]
  },
  {
   "cell_type": "code",
   "execution_count": 15,
   "id": "f91b18fb-9995-4e81-9645-b1f6c6bb7cea",
   "metadata": {},
   "outputs": [
    {
     "data": {
      "text/plain": [
       "action\n",
       "impression    990000\n",
       "click          40950\n",
       "message        22860\n",
       "visit           4500\n",
       "close           1476\n",
       "Name: count, dtype: int64"
      ]
     },
     "execution_count": 15,
     "metadata": {},
     "output_type": "execute_result"
    }
   ],
   "source": [
    "dataset['action'].value_counts()"
   ]
  },
  {
   "cell_type": "markdown",
   "id": "059d7121-f192-40c2-bf78-5f8c432f6bc8",
   "metadata": {},
   "source": [
    "# Data Preprocessing"
   ]
  },
  {
   "cell_type": "code",
   "execution_count": 16,
   "id": "8fc8c529-b0e3-4cc4-8b01-a6bbd1b78de1",
   "metadata": {},
   "outputs": [],
   "source": [
    "def ratio(x,y):\n",
    "    \"\"\"\n",
    "    x per y\n",
    "    \"\"\"\n",
    "    result = x/y \n",
    "    return result"
   ]
  },
  {
   "cell_type": "code",
   "execution_count": 17,
   "id": "f957c113-2916-47ad-97be-6eaf1600b188",
   "metadata": {},
   "outputs": [],
   "source": [
    "def pie(a, b, a_label, b_label, caption):\n",
    "    plt.pie(\n",
    "        x=[(a-b), \n",
    "           b], \n",
    "        autopct='%1.1f%%', \n",
    "        labels=[a_label,\n",
    "                b_label])\n",
    "    plt.text(x=1, y=-1, s=f\"{caption}: {int(a)}\")\n",
    "    plt.text(x=1, y=-1.1, s=f\"{a_label}: {int(a-b)}\")\n",
    "    plt.text(x=1, y=-1.2, s=f\"{b_label}: {int(b)}\")\n",
    "\n",
    "    plt.show()"
   ]
  },
  {
   "cell_type": "code",
   "execution_count": 18,
   "id": "0c5a6b91-fad7-42e2-b456-8d88bcb23717",
   "metadata": {},
   "outputs": [],
   "source": [
    "pivot_table = dataset.pivot_table(\n",
    "    columns='action',\n",
    "    index='id', \n",
    "    values='date', \n",
    "    aggfunc='count')[['impression',\n",
    "                    'click',\n",
    "                    'message',\n",
    "                    'visit',\n",
    "                    'close']]"
   ]
  },
  {
   "cell_type": "code",
   "execution_count": 19,
   "id": "eddcbc34-bd53-42da-bf6b-20829b93eb4a",
   "metadata": {},
   "outputs": [
    {
     "name": "stdout",
     "output_type": "stream",
     "text": [
      "action   impression  click  message  visit  close\n",
      "id                                               \n",
      "1000001         5.0    1.0      NaN    NaN    NaN\n",
      "1000004        24.0    1.0      1.0    NaN    NaN\n",
      "1000006         6.0    NaN      NaN    NaN    NaN\n",
      "1000007        19.0    NaN      NaN    NaN    NaN\n",
      "1000008        12.0    1.0      1.0    1.0    1.0\n"
     ]
    }
   ],
   "source": [
    "print(pivot_table.head())"
   ]
  },
  {
   "cell_type": "code",
   "execution_count": 20,
   "id": "4fb81c74-f197-4f9b-9cb3-cb3ba015232b",
   "metadata": {},
   "outputs": [],
   "source": [
    "impression = pivot_table['impression'].sum()\n",
    "user = len(pivot_table.index)\n",
    "click = pivot_table['click'].sum()\n",
    "message = pivot_table['message'].sum()\n",
    "visit = pivot_table['visit'].sum()\n",
    "close = pivot_table['close'].sum()"
   ]
  },
  {
   "cell_type": "markdown",
   "id": "ae925a59-055b-4f4b-b6bf-93bdb339bcec",
   "metadata": {},
   "source": [
    "# Modeling"
   ]
  },
  {
   "cell_type": "code",
   "execution_count": 21,
   "id": "452dcf89-83fd-48c4-83f1-416128716ca6",
   "metadata": {},
   "outputs": [
    {
     "data": {
      "image/png": "[encoded data removed]",
      "text/plain": [
       "<Figure size 640x480 with 1 Axes>"
      ]
     },
     "metadata": {},
     "output_type": "display_data"
    }
   ],
   "source": [
    "pie(user, click, a_label='not click', b_label='click', caption='Total user')"
   ]
  },
  {
   "cell_type": "code",
   "execution_count": 22,
   "id": "5ea2a2ba-db02-4786-8d35-c5a54699c5a6",
   "metadata": {},
   "outputs": [
    {
     "data": {
      "image/png": "[encoded data removed]",
      "text/plain": [
       "<Figure size 640x480 with 1 Axes>"
      ]
     },
     "metadata": {},
     "output_type": "display_data"
    }
   ],
   "source": [
    "pie(click, message, a_label='not message', b_label='message', caption='Total click')"
   ]
  },
  {
   "cell_type": "code",
   "execution_count": 23,
   "id": "21801ecc-61f8-4962-a968-f42c111c4080",
   "metadata": {},
   "outputs": [
    {
     "data": {
      "image/png": "[encoded data removed]",
      "text/plain": [
       "<Figure size 640x480 with 1 Axes>"
      ]
     },
     "metadata": {},
     "output_type": "display_data"
    }
   ],
   "source": [
    "pie(message, visit, 'not visit', 'visit', 'Total message')"
   ]
  },
  {
   "cell_type": "markdown",
   "id": "6d1aa436-f2bb-4049-9a13-7753b8623744",
   "metadata": {},
   "source": [
    "From 22860 direct message, only 19.7% potential customers decide to visit. We can improve the marketing strategy around this area."
   ]
  },
  {
   "cell_type": "code",
   "execution_count": 24,
   "id": "b592cc01-1622-4e55-bc2f-5ae2c25b76c8",
   "metadata": {},
   "outputs": [
    {
     "data": {
      "image/png": "[encoded data removed]",
      "text/plain": [
       "<Figure size 640x480 with 1 Axes>"
      ]
     },
     "metadata": {},
     "output_type": "display_data"
    }
   ],
   "source": [
    "pie(visit, close, 'not close', 'close', 'Total visit')"
   ]
  },
  {
   "cell_type": "code",
   "execution_count": 25,
   "id": "030f7376-f52e-4731-b6ed-42c6bfee0fec",
   "metadata": {},
   "outputs": [
    {
     "data": {
      "image/png": "[encoded data removed]",
      "text/plain": [
       "<Figure size 640x480 with 1 Axes>"
      ]
     },
     "metadata": {},
     "output_type": "display_data"
    }
   ],
   "source": [
    "value = [user, click, message, visit, close]\n",
    "label = ['user', 'click', 'message', 'visit', 'close']\n",
    "\n",
    "figure = sns.barplot(x=label, y=value)\n",
    "figure.bar_label(figure.containers[0])\n",
    "plt.title('User Flows')\n",
    "plt.show()"
   ]
  },
  {
   "cell_type": "code",
   "execution_count": 26,
   "id": "4581926b-97e3-4ba1-a7ce-18789d325751",
   "metadata": {},
   "outputs": [
    {
     "name": "stdout",
     "output_type": "stream",
     "text": [
      "We have 990000.0 impressions.\n",
      "Users see the ads about 11.0 times to click the ads (if interested).\n",
      "The total user reach is 90000 users.\n",
      "To get one click, we need to have more less 24.18 impressions.\n",
      "We need to have more less 2.2 users to get one click.\n",
      "To get one direct message, we need to have more less 1.79 clicks.\n",
      "To get one visitor, we need to have more less 5.08 direct messages.\n",
      "To get one registration for trial fitness, we need to have more less 3.05 visitors.\n"
     ]
    }
   ],
   "source": [
    "print(f\"We have {impression} impressions.\")\n",
    "print(f\"Users see the ads about {ratio(impression, user).round(2)} times to click the ads (if interested).\")\n",
    "print(f\"The total user reach is {user} users.\")\n",
    "print(f\"To get one click, we need to have more less {ratio(impression, click).round(2)} impressions.\")\n",
    "print(f\"We need to have more less {ratio(user, click).round(2)} users to get one click.\")\n",
    "print(f\"To get one direct message, we need to have more less {ratio(click, message).round(2)} clicks.\")\n",
    "print(f\"To get one visitor, we need to have more less {ratio(message, visit).round(2)} direct messages.\")\n",
    "print(f\"To get one registration for trial fitness, we need to have more less {ratio(visit, close).round(2)} visitors.\")"
   ]
  },
  {
   "cell_type": "markdown",
   "id": "87dcfa8a-8f8b-45f2-b5bb-f72926d0c8dd",
   "metadata": {},
   "source": [
    "CPM or cost per mile means the cost for every 1000 impressions and it cost IDR65.000 perform one CPM campaign. We have 990000 impressions. We need to divide 65000 by 1000 to get the price for one impression."
   ]
  },
  {
   "cell_type": "code",
   "execution_count": 27,
   "id": "610edf6a-5b41-4b22-9e90-f4c70256204c",
   "metadata": {},
   "outputs": [],
   "source": [
    "price_per_impression = 65000/1000"
   ]
  },
  {
   "cell_type": "code",
   "execution_count": 28,
   "id": "dbfef29d-2db3-4688-885c-87c981afa173",
   "metadata": {},
   "outputs": [],
   "source": [
    "cost = impression * price_per_impression"
   ]
  },
  {
   "cell_type": "code",
   "execution_count": 29,
   "id": "ea150523-81d9-48f9-9d6d-76d8dc2c73b0",
   "metadata": {},
   "outputs": [],
   "source": [
    "cost_per_acquisition = cost / close"
   ]
  },
  {
   "cell_type": "code",
   "execution_count": 30,
   "id": "35addac2-def5-4e6f-9fe1-7f22a4d1abea",
   "metadata": {},
   "outputs": [
    {
     "name": "stdout",
     "output_type": "stream",
     "text": [
      "The price for one impression: 65.0 IDR.\n",
      "The total cost for the campign: 64350000.0 IDR.\n",
      "The cost to acquire one customer registration: 43598.0 IDR.\n"
     ]
    }
   ],
   "source": [
    "print(f\"The price for one impression: {price_per_impression} IDR.\")\n",
    "print(f\"The total cost for the campign: {cost} IDR.\")\n",
    "print(f\"The cost to acquire one customer registration: {cost_per_acquisition.round()} IDR.\")"
   ]
  },
  {
   "cell_type": "markdown",
   "id": "ba6cf7ee-656a-4c43-b3a7-ddaf4d7f0674",
   "metadata": {},
   "source": [
    "# Insights"
   ]
  },
  {
   "cell_type": "markdown",
   "id": "265a769b-ab59-461e-932d-3dfeaa3f916e",
   "metadata": {},
   "source": [
    "## Interpretation and Reporting\n",
    "\n",
    "- It needs 11 impression for one click. This means the ad maybe not enough interesting or relevant for the targeted audience.\n",
    "- The cost per acquisition is IDR43.598. We need to see from many perspectives. If the CPA is still lower than the margin profit, it is still profitable. If the CPA is higher than the margin profit but the customer lifetime value can cover the CPA, it is still profitable. If not, this shows that you need to optimize the campign to decrease the acquisition cost.\n",
    "- There are 19.7% visitors from after they direct message through social media. There are big potential to improve the interaction to customers using direct message.\n",
    "- From 4500 visitors, 32.8% of them decide to register for trial in the fitness center. This is ok situation but still there are space for improvement."
   ]
  },
  {
   "cell_type": "markdown",
   "id": "886e0a3f-c7ca-40ac-ba04-14d89fe46fe0",
   "metadata": {},
   "source": [
    "## Action\n",
    "\n",
    "- Improve ad relevance:\n",
    "  - Research more about the audience to understand their interest and needs.\n",
    "  - Test various types of ad to see which one is more effective.\n",
    "  - Make more relevant and interested ads for our targeted audience.\n",
    "\n",
    "- Optimize cost per mile (CPM):\n",
    "  - Review the marketing strategy to get lower cost per mile.\n",
    "  - Use more specific and relevant keywords for targeting right audience.\n",
    "  - Retargeting our audience (If needed).\n",
    "\n",
    "- Develop direct message:\n",
    "  - Personalized direct message based on their personal information.\n",
    "  - Give interesting and relevant offer to our potential customers in direct message.\n",
    "  - Use clear and persuasive language to boost conversion."
   ]
  },
  {
   "cell_type": "markdown",
   "id": "b423b67d-63ab-48a6-b749-43d885c63c70",
   "metadata": {},
   "source": [
    "# Further Analysis\n",
    "\n",
    "- Survival analysis to understand the customer lifetime value.\n",
    "- A/B testing to test various elements in the campign to see which element is more effective.\n",
    "- Classification analysis to predict what kind of customers will click the ads or not."
   ]
  }
 ],
 "metadata": {
  "kernelspec": {
   "display_name": "Python 3 (ipykernel)",
   "language": "python",
   "name": "python3"
  },
  "language_info": {
   "codemirror_mode": {
    "name": "ipython",
    "version": 3
   },
   "file_extension": ".py",
   "mimetype": "text/x-python",
   "name": "python",
   "nbconvert_exporter": "python",
   "pygments_lexer": "ipython3",
   "version": "3.11.2"
  }
 },
 "nbformat": 4,
 "nbformat_minor": 5
}
