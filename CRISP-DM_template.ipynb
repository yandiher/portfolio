{
 "cells": [
  {
   "cell_type": "markdown",
   "id": "2a7c961e-087b-4acc-b670-6797479cfce4",
   "metadata": {},
   "source": [
    "# Portofolio:"
   ]
  },
  {
   "cell_type": "markdown",
   "id": "9e4e8f25-b855-40f4-9451-2dcfab2f1b95",
   "metadata": {},
   "source": [
    "# Business Understanding"
   ]
  },
  {
   "cell_type": "markdown",
   "id": "9a0524ce-5e18-4868-a709-9d70dc3034af",
   "metadata": {},
   "source": [
    "## Introduction"
   ]
  },
  {
   "cell_type": "code",
   "execution_count": null,
   "id": "28f706b2-ec50-41f9-9112-576761665c9b",
   "metadata": {},
   "outputs": [],
   "source": []
  },
  {
   "cell_type": "code",
   "execution_count": null,
   "id": "566b31dc-a0a7-43fd-8412-0e164a67c82e",
   "metadata": {},
   "outputs": [],
   "source": []
  },
  {
   "cell_type": "markdown",
   "id": "e5b7c2b9-a6ab-473f-8e0e-fc74be9e2602",
   "metadata": {},
   "source": [
    "## Objectives"
   ]
  },
  {
   "cell_type": "code",
   "execution_count": null,
   "id": "6063a4db-4add-460c-bce3-76b4fc247ade",
   "metadata": {},
   "outputs": [],
   "source": []
  },
  {
   "cell_type": "code",
   "execution_count": null,
   "id": "3da77c0d-9c67-449c-9aa6-367802dc72ad",
   "metadata": {},
   "outputs": [],
   "source": []
  },
  {
   "cell_type": "markdown",
   "id": "b57f8c37-e3a1-4a93-87a0-87f2d800e8dc",
   "metadata": {},
   "source": [
    "## Tools and Dataset Needed"
   ]
  },
  {
   "cell_type": "code",
   "execution_count": null,
   "id": "7a15506d-5e42-4dda-9d82-d0d70b83d9af",
   "metadata": {},
   "outputs": [],
   "source": []
  },
  {
   "cell_type": "code",
   "execution_count": null,
   "id": "630c270a-b89b-4489-bacb-13c6cee0e349",
   "metadata": {},
   "outputs": [],
   "source": []
  },
  {
   "cell_type": "markdown",
   "id": "6aba199e-0557-439f-a608-33602246086b",
   "metadata": {},
   "source": [
    "## Methodology"
   ]
  },
  {
   "cell_type": "code",
   "execution_count": null,
   "id": "4d5bf48d-6c2b-456e-8b37-a186af734b60",
   "metadata": {},
   "outputs": [],
   "source": []
  },
  {
   "cell_type": "code",
   "execution_count": null,
   "id": "87b5ebe4-8bb7-4192-a0b3-74e287c2e499",
   "metadata": {},
   "outputs": [],
   "source": []
  },
  {
   "cell_type": "markdown",
   "id": "56f3994b-f6b5-4cbd-87f6-63332b0107c8",
   "metadata": {},
   "source": [
    "# Data Understanding"
   ]
  },
  {
   "cell_type": "markdown",
   "id": "7036b50f-5891-4d29-b5de-575e30217914",
   "metadata": {},
   "source": [
    "## Data Acquisition"
   ]
  },
  {
   "cell_type": "code",
   "execution_count": null,
   "id": "89041653-860d-4903-ac5c-af2d8db917de",
   "metadata": {},
   "outputs": [],
   "source": []
  },
  {
   "cell_type": "code",
   "execution_count": null,
   "id": "edd2e10f-cdda-41bb-b28d-232287f0e4fe",
   "metadata": {},
   "outputs": [],
   "source": []
  },
  {
   "cell_type": "code",
   "execution_count": null,
   "id": "6fe90372-0a0e-4978-92f7-26ac94651cbb",
   "metadata": {},
   "outputs": [],
   "source": []
  },
  {
   "cell_type": "markdown",
   "id": "73daa88b-23f4-4708-8b6c-8d4e60a7e6b6",
   "metadata": {},
   "source": [
    "## Data Profiling"
   ]
  },
  {
   "cell_type": "code",
   "execution_count": 1,
   "id": "31e63c38-78a8-4615-9192-0a8f168212a5",
   "metadata": {},
   "outputs": [],
   "source": [
    "# dataset info"
   ]
  },
  {
   "cell_type": "code",
   "execution_count": 2,
   "id": "139e00ba-e68d-45a7-b83c-50319919debe",
   "metadata": {},
   "outputs": [],
   "source": [
    "# missing values"
   ]
  },
  {
   "cell_type": "code",
   "execution_count": 3,
   "id": "fbbd9ba3-9e34-4099-b398-3d8771ccef6d",
   "metadata": {},
   "outputs": [],
   "source": [
    "# duplicated values"
   ]
  },
  {
   "cell_type": "code",
   "execution_count": 4,
   "id": "42a9ecfb-6ca1-4241-9738-fde2425043c4",
   "metadata": {},
   "outputs": [],
   "source": [
    "# correct wrong format"
   ]
  },
  {
   "cell_type": "markdown",
   "id": "285e0d54-2085-423d-8b23-d0f02935588b",
   "metadata": {},
   "source": [
    "## Descriptive Statistics"
   ]
  },
  {
   "cell_type": "code",
   "execution_count": null,
   "id": "63eb4a77-f1fb-4cae-83a3-a6089416d614",
   "metadata": {},
   "outputs": [],
   "source": []
  },
  {
   "cell_type": "code",
   "execution_count": null,
   "id": "c6db60cd-3dad-4b39-b558-b99313b1447e",
   "metadata": {},
   "outputs": [],
   "source": []
  },
  {
   "cell_type": "markdown",
   "id": "059d7121-f192-40c2-bf78-5f8c432f6bc8",
   "metadata": {},
   "source": [
    "# Data Preprocessing"
   ]
  },
  {
   "cell_type": "code",
   "execution_count": null,
   "id": "8fc8c529-b0e3-4cc4-8b01-a6bbd1b78de1",
   "metadata": {},
   "outputs": [],
   "source": []
  },
  {
   "cell_type": "code",
   "execution_count": null,
   "id": "1d742557-f42a-418f-b746-cca7b5204b4a",
   "metadata": {},
   "outputs": [],
   "source": []
  },
  {
   "cell_type": "markdown",
   "id": "ae925a59-055b-4f4b-b6bf-93bdb339bcec",
   "metadata": {},
   "source": [
    "# Modeling"
   ]
  },
  {
   "cell_type": "code",
   "execution_count": null,
   "id": "50d6b6c3-0b8f-4ff5-a5ea-9b67603f3b47",
   "metadata": {},
   "outputs": [],
   "source": []
  },
  {
   "cell_type": "code",
   "execution_count": null,
   "id": "19014d74-0796-4b47-bbf1-13fe7a34b986",
   "metadata": {},
   "outputs": [],
   "source": []
  },
  {
   "cell_type": "markdown",
   "id": "ba6cf7ee-656a-4c43-b3a7-ddaf4d7f0674",
   "metadata": {},
   "source": [
    "# Insights"
   ]
  },
  {
   "cell_type": "markdown",
   "id": "265a769b-ab59-461e-932d-3dfeaa3f916e",
   "metadata": {},
   "source": [
    "## Interpretation and Reporting"
   ]
  },
  {
   "cell_type": "code",
   "execution_count": null,
   "id": "36317cd0-aa71-40e7-a1dc-bdb871838c5d",
   "metadata": {},
   "outputs": [],
   "source": []
  },
  {
   "cell_type": "code",
   "execution_count": null,
   "id": "22a17b0f-3991-43d3-825c-71fb0490a626",
   "metadata": {},
   "outputs": [],
   "source": []
  },
  {
   "cell_type": "markdown",
   "id": "886e0a3f-c7ca-40ac-ba04-14d89fe46fe0",
   "metadata": {},
   "source": [
    "## Action"
   ]
  },
  {
   "cell_type": "code",
   "execution_count": null,
   "id": "44e83f85-e48a-4a86-9a84-2edc163191da",
   "metadata": {},
   "outputs": [],
   "source": []
  },
  {
   "cell_type": "code",
   "execution_count": null,
   "id": "bd4f585d-3eca-487e-9774-d36ec50599c2",
   "metadata": {},
   "outputs": [],
   "source": []
  },
  {
   "cell_type": "markdown",
   "id": "b423b67d-63ab-48a6-b749-43d885c63c70",
   "metadata": {},
   "source": [
    "# Further Analysis"
   ]
  },
  {
   "cell_type": "code",
   "execution_count": null,
   "id": "9c82b6f6-2687-410b-bb6d-86ef881f0ef4",
   "metadata": {},
   "outputs": [],
   "source": []
  },
  {
   "cell_type": "code",
   "execution_count": null,
   "id": "20ad63d7-334e-40a0-b2c2-908ebb98383d",
   "metadata": {},
   "outputs": [],
   "source": []
  }
 ],
 "metadata": {
  "kernelspec": {
   "display_name": "Python 3 (ipykernel)",
   "language": "python",
   "name": "python3"
  },
  "language_info": {
   "codemirror_mode": {
    "name": "ipython",
    "version": 3
   },
   "file_extension": ".py",
   "mimetype": "text/x-python",
   "name": "python",
   "nbconvert_exporter": "python",
   "pygments_lexer": "ipython3",
   "version": "3.12.2"
  }
 },
 "nbformat": 4,
 "nbformat_minor": 5
}
