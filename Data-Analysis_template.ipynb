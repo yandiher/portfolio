{
 "cells": [
  {
   "cell_type": "markdown",
   "id": "f1dd3920-ed8e-4f13-930b-ea883d66e3aa",
   "metadata": {},
   "source": [
    "# Portfolio:"
   ]
  },
  {
   "cell_type": "markdown",
   "id": "c475ca84-55e1-4c26-afcc-b91383c1c8e2",
   "metadata": {},
   "source": [
    "# Define Problem and Objectives"
   ]
  },
  {
   "cell_type": "code",
   "execution_count": null,
   "id": "b0694670-004c-4ee4-98dc-dc6028383221",
   "metadata": {},
   "outputs": [],
   "source": []
  },
  {
   "cell_type": "code",
   "execution_count": null,
   "id": "06a3b4c2-59b0-4e7d-be17-f0c746bed59f",
   "metadata": {},
   "outputs": [],
   "source": []
  },
  {
   "cell_type": "markdown",
   "id": "f4ae6ee8-2e7b-4d6e-8f92-5ca1cf08de4c",
   "metadata": {},
   "source": [
    "# Data Collection"
   ]
  },
  {
   "cell_type": "code",
   "execution_count": null,
   "id": "d6d7fe99-363d-4f9a-99b4-551594a7ec4d",
   "metadata": {},
   "outputs": [],
   "source": []
  },
  {
   "cell_type": "code",
   "execution_count": null,
   "id": "d8bf73a4-2415-4264-94ba-e9c30c434a79",
   "metadata": {},
   "outputs": [],
   "source": []
  },
  {
   "cell_type": "markdown",
   "id": "f79de604-aec8-4e15-af64-cc04f55a058b",
   "metadata": {},
   "source": [
    "# Data Cleaning"
   ]
  },
  {
   "cell_type": "code",
   "execution_count": null,
   "id": "f91cac57-b739-4e27-914b-a630bb4bcfb5",
   "metadata": {},
   "outputs": [],
   "source": []
  },
  {
   "cell_type": "code",
   "execution_count": null,
   "id": "86fb7b2b-381e-45c0-b8fd-cd6127a66617",
   "metadata": {},
   "outputs": [],
   "source": []
  },
  {
   "cell_type": "markdown",
   "id": "09a6a6f8-2583-4f09-a41b-a9f56e19d3b1",
   "metadata": {},
   "source": [
    "# Data Exploration"
   ]
  },
  {
   "cell_type": "code",
   "execution_count": null,
   "id": "3cbd1761-ba4d-496a-85bd-caab9aabb55b",
   "metadata": {},
   "outputs": [],
   "source": []
  },
  {
   "cell_type": "code",
   "execution_count": null,
   "id": "e2a13a45-3cbf-4c82-89d1-c4c2cf572f55",
   "metadata": {},
   "outputs": [],
   "source": []
  },
  {
   "cell_type": "markdown",
   "id": "473a5d19-033d-49b8-a5e1-359d989bb0a3",
   "metadata": {},
   "source": [
    "# Data Transformation"
   ]
  },
  {
   "cell_type": "code",
   "execution_count": null,
   "id": "4ea0376e-e61a-4207-9dd5-33f217953487",
   "metadata": {},
   "outputs": [],
   "source": []
  },
  {
   "cell_type": "code",
   "execution_count": null,
   "id": "f6dd3262-ef81-4dd1-aa6c-4ec2e4a3f1e8",
   "metadata": {},
   "outputs": [],
   "source": []
  },
  {
   "cell_type": "markdown",
   "id": "3c65ca4e-ab58-4d4d-89fd-2ce14f1ceea7",
   "metadata": {},
   "source": [
    "# Data Analysis"
   ]
  },
  {
   "cell_type": "code",
   "execution_count": null,
   "id": "321df7d8-aba8-4ef7-b117-7ad6014496a6",
   "metadata": {},
   "outputs": [],
   "source": []
  },
  {
   "cell_type": "code",
   "execution_count": null,
   "id": "a8d75145-15e1-4c00-be13-8b4d8cbb53b0",
   "metadata": {},
   "outputs": [],
   "source": []
  },
  {
   "cell_type": "markdown",
   "id": "18f6a330-54bd-49b1-a0c4-9d6964136917",
   "metadata": {},
   "source": [
    "# Data Visualization"
   ]
  },
  {
   "cell_type": "code",
   "execution_count": null,
   "id": "064bfb8a-89bd-4b96-8263-29fffc82c87a",
   "metadata": {},
   "outputs": [],
   "source": []
  },
  {
   "cell_type": "code",
   "execution_count": null,
   "id": "2f249178-6819-49a6-99e5-56144832bd18",
   "metadata": {},
   "outputs": [],
   "source": []
  },
  {
   "cell_type": "markdown",
   "id": "8c3b3fb3-2269-432d-bd5d-2dee2ad7c861",
   "metadata": {},
   "source": [
    "# Interpretation and Reporting"
   ]
  },
  {
   "cell_type": "code",
   "execution_count": null,
   "id": "202506f5-30b9-4c18-95fd-a3c028cd5403",
   "metadata": {},
   "outputs": [],
   "source": []
  },
  {
   "cell_type": "code",
   "execution_count": null,
   "id": "ae2cc742-1476-4023-afad-a17d03e32d7c",
   "metadata": {},
   "outputs": [],
   "source": []
  },
  {
   "cell_type": "markdown",
   "id": "ade8ad84-281b-4bc9-9c44-274318152213",
   "metadata": {},
   "source": [
    "# Implementation"
   ]
  },
  {
   "cell_type": "code",
   "execution_count": null,
   "id": "32125d66-1670-44c6-aef0-f798ebd545a5",
   "metadata": {},
   "outputs": [],
   "source": []
  },
  {
   "cell_type": "code",
   "execution_count": null,
   "id": "1457e7de-8610-4d43-802e-13b2b591fa4e",
   "metadata": {},
   "outputs": [],
   "source": []
  },
  {
   "cell_type": "markdown",
   "id": "adc0027f-e0f4-480a-83ba-1d26ce93c0f7",
   "metadata": {},
   "source": [
    "# Further Analysis"
   ]
  },
  {
   "cell_type": "code",
   "execution_count": null,
   "id": "a54e0a30-74d9-44be-aa76-6836daa0b98e",
   "metadata": {},
   "outputs": [],
   "source": []
  },
  {
   "cell_type": "code",
   "execution_count": null,
   "id": "0e9f09e3-6fb7-4348-9217-da40a7f5cf08",
   "metadata": {},
   "outputs": [],
   "source": []
  }
 ],
 "metadata": {
  "kernelspec": {
   "display_name": "Python 3 (ipykernel)",
   "language": "python",
   "name": "python3"
  },
  "language_info": {
   "codemirror_mode": {
    "name": "ipython",
    "version": 3
   },
   "file_extension": ".py",
   "mimetype": "text/x-python",
   "name": "python",
   "nbconvert_exporter": "python",
   "pygments_lexer": "ipython3",
   "version": "3.11.2"
  }
 },
 "nbformat": 4,
 "nbformat_minor": 5
}
