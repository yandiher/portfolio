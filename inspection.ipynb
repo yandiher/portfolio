{
 "cells": [
  {
   "cell_type": "code",
   "execution_count": 1,
   "id": "7aa1bf35-6f8f-4cdb-96ef-fbbd7a9ab937",
   "metadata": {},
   "outputs": [],
   "source": [
    "import pandas as pd"
   ]
  },
  {
   "cell_type": "code",
   "execution_count": 3,
   "id": "613731e8-b4d4-4048-8f24-eb294a34714c",
   "metadata": {},
   "outputs": [],
   "source": [
    "dataset = pd.read_csv('data/seblak_cook_salary.csv')"
   ]
  },
  {
   "cell_type": "code",
   "execution_count": 5,
   "id": "aefd834c-d87d-43d3-8a07-5d7c434011f1",
   "metadata": {},
   "outputs": [],
   "source": [
    "dataset['salary'] = dataset['salary'] * 10"
   ]
  },
  {
   "cell_type": "code",
   "execution_count": 6,
   "id": "34ed69fa-abc5-4a80-a2cc-d5ab520e61bf",
   "metadata": {},
   "outputs": [
    {
     "data": {
      "text/html": [
       "<div>\n",
       "<style scoped>\n",
       "    .dataframe tbody tr th:only-of-type {\n",
       "        vertical-align: middle;\n",
       "    }\n",
       "\n",
       "    .dataframe tbody tr th {\n",
       "        vertical-align: top;\n",
       "    }\n",
       "\n",
       "    .dataframe thead th {\n",
       "        text-align: right;\n",
       "    }\n",
       "</style>\n",
       "<table border=\"1\" class=\"dataframe\">\n",
       "  <thead>\n",
       "    <tr style=\"text-align: right;\">\n",
       "      <th></th>\n",
       "      <th>age</th>\n",
       "      <th>distance (km)</th>\n",
       "      <th>gender</th>\n",
       "      <th>years of working</th>\n",
       "      <th>status</th>\n",
       "      <th>salary</th>\n",
       "    </tr>\n",
       "  </thead>\n",
       "  <tbody>\n",
       "    <tr>\n",
       "      <th>0</th>\n",
       "      <td>19</td>\n",
       "      <td>5.369</td>\n",
       "      <td>female</td>\n",
       "      <td>0</td>\n",
       "      <td>permanent</td>\n",
       "      <td>3909000</td>\n",
       "    </tr>\n",
       "    <tr>\n",
       "      <th>1</th>\n",
       "      <td>19</td>\n",
       "      <td>7.731</td>\n",
       "      <td>male</td>\n",
       "      <td>1</td>\n",
       "      <td>contract</td>\n",
       "      <td>3782000</td>\n",
       "    </tr>\n",
       "    <tr>\n",
       "      <th>2</th>\n",
       "      <td>22</td>\n",
       "      <td>7.421</td>\n",
       "      <td>male</td>\n",
       "      <td>3</td>\n",
       "      <td>contract</td>\n",
       "      <td>4159000</td>\n",
       "    </tr>\n",
       "    <tr>\n",
       "      <th>3</th>\n",
       "      <td>24</td>\n",
       "      <td>3.278</td>\n",
       "      <td>male</td>\n",
       "      <td>0</td>\n",
       "      <td>contract</td>\n",
       "      <td>4053000</td>\n",
       "    </tr>\n",
       "    <tr>\n",
       "      <th>4</th>\n",
       "      <td>23</td>\n",
       "      <td>5.763</td>\n",
       "      <td>male</td>\n",
       "      <td>0</td>\n",
       "      <td>contract</td>\n",
       "      <td>3543000</td>\n",
       "    </tr>\n",
       "  </tbody>\n",
       "</table>\n",
       "</div>"
      ],
      "text/plain": [
       "   age  distance (km)  gender  years of working     status   salary\n",
       "0   19          5.369  female                 0  permanent  3909000\n",
       "1   19          7.731    male                 1   contract  3782000\n",
       "2   22          7.421    male                 3   contract  4159000\n",
       "3   24          3.278    male                 0   contract  4053000\n",
       "4   23          5.763    male                 0   contract  3543000"
      ]
     },
     "execution_count": 6,
     "metadata": {},
     "output_type": "execute_result"
    }
   ],
   "source": [
    "dataset.head()"
   ]
  },
  {
   "cell_type": "code",
   "execution_count": null,
   "id": "848cdc2d-9e76-4431-ae9c-e2c9bb986eb8",
   "metadata": {},
   "outputs": [],
   "source": []
  },
  {
   "cell_type": "code",
   "execution_count": null,
   "id": "008af0fd-92c9-4fba-bbb7-a7a67885f709",
   "metadata": {},
   "outputs": [],
   "source": []
  },
  {
   "cell_type": "code",
   "execution_count": null,
   "id": "650a533f-320b-49e4-bb58-dfea835f179b",
   "metadata": {},
   "outputs": [],
   "source": []
  },
  {
   "cell_type": "code",
   "execution_count": null,
   "id": "b6465f05-0a8d-4d6b-bb83-f4c64e2c7e06",
   "metadata": {},
   "outputs": [],
   "source": []
  }
 ],
 "metadata": {
  "kernelspec": {
   "display_name": "Python 3 (ipykernel)",
   "language": "python",
   "name": "python3"
  },
  "language_info": {
   "codemirror_mode": {
    "name": "ipython",
    "version": 3
   },
   "file_extension": ".py",
   "mimetype": "text/x-python",
   "name": "python",
   "nbconvert_exporter": "python",
   "pygments_lexer": "ipython3",
   "version": "3.12.2"
  }
 },
 "nbformat": 4,
 "nbformat_minor": 5
}
